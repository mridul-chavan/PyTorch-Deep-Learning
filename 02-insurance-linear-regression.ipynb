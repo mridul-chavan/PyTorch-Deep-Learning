{
 "cells": [
  {
   "cell_type": "markdown",
   "metadata": {
    "_cell_guid": "b1076dfc-b9ad-4769-8c92-a6c4dae69d19",
    "_uuid": "8f2839f25d086af736a60e9eeb907d3b93b6e0e5"
   },
   "source": [
    "# Insurance cost prediction using linear regression\n",
    "\n",
    "In this assignment we're going to use information like a person's age, sex, BMI, no. of children and smoking habit to predict the price of yearly medical bills. This kind of model is useful for insurance companies to determine the yearly insurance premium for a person. The dataset for this problem is taken from: https://www.kaggle.com/mirichoi0218/insurance\n",
    "\n",
    "\n",
    "We will create a model with the following steps:\n",
    "1. Download and explore the dataset\n",
    "2. Prepare the dataset for training\n",
    "3. Create a linear regression model\n",
    "4. Train the model to fit the data\n",
    "5. Make predictions using the trained model\n",
    "\n",
    "\n",
    "This assignment builds upon the concepts from the first 2 lectures. It will help to review these Jupyter notebooks:\n",
    "- PyTorch basics: https://jovian.ml/aakashns/01-pytorch-basics\n",
    "- Linear Regression: https://jovian.ml/aakashns/02-linear-regression\n",
    "- Logistic Regression: https://jovian.ml/aakashns/03-logistic-regression\n",
    "- Linear regression (minimal): https://jovian.ml/aakashns/housing-linear-minimal\n",
    "- Logistic regression (minimal): https://jovian.ml/aakashns/mnist-logistic-minimal\n",
    "\n",
    "As you go through this notebook, you will find a **???** in certain places. Your job is to replace the **???** with appropriate code or values, to ensure that the notebook runs properly end-to-end . In some cases, you'll be required to choose some hyperparameters (learning rate, batch size etc.). Try to experiment with the hypeparameters to get the lowest loss.\n"
   ]
  },
  {
   "cell_type": "code",
   "execution_count": 83,
   "metadata": {},
   "outputs": [
    {
     "name": "stdout",
     "output_type": "stream",
     "text": [
      "\u001b[33mWARNING: You are using pip version 20.1; however, version 20.1.1 is available.\r\n",
      "You should consider upgrading via the '/opt/conda/bin/python3.7 -m pip install --upgrade pip' command.\u001b[0m\r\n"
     ]
    }
   ],
   "source": [
    "# Uncomment and run the commands below if imports fail\n",
    "# !conda install numpy pytorch torchvision cpuonly -c pytorch -y\n",
    "# !pip install matplotlib --upgrade --quiet\n",
    "!pip install jovian --upgrade --quiet"
   ]
  },
  {
   "cell_type": "code",
   "execution_count": 84,
   "metadata": {},
   "outputs": [],
   "source": [
    "import torch\n",
    "import jovian\n",
    "import torchvision\n",
    "import torch.nn as nn\n",
    "import pandas as pd\n",
    "import matplotlib.pyplot as plt\n",
    "import torch.nn.functional as F\n",
    "from torchvision.datasets.utils import download_url\n",
    "from torch.utils.data import DataLoader, TensorDataset, random_split"
   ]
  },
  {
   "cell_type": "code",
   "execution_count": 85,
   "metadata": {},
   "outputs": [],
   "source": [
    "project_name='02-insurance-linear-regression' # will be used by jovian.commit"
   ]
  },
  {
   "cell_type": "markdown",
   "metadata": {},
   "source": [
    "## Step 1: Download and explore the data\n",
    "\n",
    "Let us begin by downloading the data. We'll use the `download_url` function from PyTorch to get the data as a CSV (comma-separated values) file. "
   ]
  },
  {
   "cell_type": "code",
   "execution_count": 86,
   "metadata": {
    "_cell_guid": "79c7e3d0-c299-4dcb-8224-4455121ee9b0",
    "_uuid": "d629ff2d2480ee46fbb7e2d37f6b5fab8052498a"
   },
   "outputs": [
    {
     "name": "stdout",
     "output_type": "stream",
     "text": [
      "Using downloaded and verified file: ./insurance.csv\n"
     ]
    }
   ],
   "source": [
    "DATASET_URL = \"https://hub.jovian.ml/wp-content/uploads/2020/05/insurance.csv\"\n",
    "DATA_FILENAME = \"insurance.csv\"\n",
    "download_url(DATASET_URL, '.')"
   ]
  },
  {
   "cell_type": "markdown",
   "metadata": {},
   "source": [
    "To load the dataset into memory, we'll use the `read_csv` function from the `pandas` library. The data will be loaded as a Pandas dataframe. See this short tutorial to learn more: https://data36.com/pandas-tutorial-1-basics-reading-data-files-dataframes-data-selection/"
   ]
  },
  {
   "cell_type": "code",
   "execution_count": 87,
   "metadata": {},
   "outputs": [
    {
     "data": {
      "text/html": [
       "<div>\n",
       "<style scoped>\n",
       "    .dataframe tbody tr th:only-of-type {\n",
       "        vertical-align: middle;\n",
       "    }\n",
       "\n",
       "    .dataframe tbody tr th {\n",
       "        vertical-align: top;\n",
       "    }\n",
       "\n",
       "    .dataframe thead th {\n",
       "        text-align: right;\n",
       "    }\n",
       "</style>\n",
       "<table border=\"1\" class=\"dataframe\">\n",
       "  <thead>\n",
       "    <tr style=\"text-align: right;\">\n",
       "      <th></th>\n",
       "      <th>age</th>\n",
       "      <th>sex</th>\n",
       "      <th>bmi</th>\n",
       "      <th>children</th>\n",
       "      <th>smoker</th>\n",
       "      <th>region</th>\n",
       "      <th>charges</th>\n",
       "    </tr>\n",
       "  </thead>\n",
       "  <tbody>\n",
       "    <tr>\n",
       "      <th>0</th>\n",
       "      <td>19</td>\n",
       "      <td>female</td>\n",
       "      <td>27.900</td>\n",
       "      <td>0</td>\n",
       "      <td>yes</td>\n",
       "      <td>southwest</td>\n",
       "      <td>16884.92400</td>\n",
       "    </tr>\n",
       "    <tr>\n",
       "      <th>1</th>\n",
       "      <td>18</td>\n",
       "      <td>male</td>\n",
       "      <td>33.770</td>\n",
       "      <td>1</td>\n",
       "      <td>no</td>\n",
       "      <td>southeast</td>\n",
       "      <td>1725.55230</td>\n",
       "    </tr>\n",
       "    <tr>\n",
       "      <th>2</th>\n",
       "      <td>28</td>\n",
       "      <td>male</td>\n",
       "      <td>33.000</td>\n",
       "      <td>3</td>\n",
       "      <td>no</td>\n",
       "      <td>southeast</td>\n",
       "      <td>4449.46200</td>\n",
       "    </tr>\n",
       "    <tr>\n",
       "      <th>3</th>\n",
       "      <td>33</td>\n",
       "      <td>male</td>\n",
       "      <td>22.705</td>\n",
       "      <td>0</td>\n",
       "      <td>no</td>\n",
       "      <td>northwest</td>\n",
       "      <td>21984.47061</td>\n",
       "    </tr>\n",
       "    <tr>\n",
       "      <th>4</th>\n",
       "      <td>32</td>\n",
       "      <td>male</td>\n",
       "      <td>28.880</td>\n",
       "      <td>0</td>\n",
       "      <td>no</td>\n",
       "      <td>northwest</td>\n",
       "      <td>3866.85520</td>\n",
       "    </tr>\n",
       "  </tbody>\n",
       "</table>\n",
       "</div>"
      ],
      "text/plain": [
       "   age     sex     bmi  children smoker     region      charges\n",
       "0   19  female  27.900         0    yes  southwest  16884.92400\n",
       "1   18    male  33.770         1     no  southeast   1725.55230\n",
       "2   28    male  33.000         3     no  southeast   4449.46200\n",
       "3   33    male  22.705         0     no  northwest  21984.47061\n",
       "4   32    male  28.880         0     no  northwest   3866.85520"
      ]
     },
     "execution_count": 87,
     "metadata": {},
     "output_type": "execute_result"
    }
   ],
   "source": [
    "dataframe_raw = pd.read_csv(DATA_FILENAME)\n",
    "dataframe_raw.head()"
   ]
  },
  {
   "cell_type": "markdown",
   "metadata": {},
   "source": [
    "We're going to do a slight customization of the data, so that you every participant receives a slightly different version of the dataset. Fill in your name below as a string (enter at least 5 characters)"
   ]
  },
  {
   "cell_type": "code",
   "execution_count": 88,
   "metadata": {},
   "outputs": [],
   "source": [
    "your_name = 'Mridul'"
   ]
  },
  {
   "cell_type": "markdown",
   "metadata": {},
   "source": [
    "The `customize_dataset` function will customize the dataset slightly using your name as a source of random numbers."
   ]
  },
  {
   "cell_type": "code",
   "execution_count": 89,
   "metadata": {},
   "outputs": [],
   "source": [
    "def customize_dataset(dataframe_raw, rand_str):\n",
    "    dataframe = dataframe_raw.copy(deep=True)\n",
    "    # drop some rows\n",
    "    dataframe = dataframe.sample(int(0.95*len(dataframe)), random_state=int(ord(rand_str[0])))\n",
    "    # scale input\n",
    "    dataframe.bmi = dataframe.bmi * ord(rand_str[1])/100.\n",
    "    # scale target\n",
    "    dataframe.charges = dataframe.charges * ord(rand_str[2])/100.\n",
    "    # drop column\n",
    "    if ord(rand_str[3]) % 2 == 1:\n",
    "        dataframe = dataframe.drop(['region'], axis=1)\n",
    "    return dataframe"
   ]
  },
  {
   "cell_type": "code",
   "execution_count": 90,
   "metadata": {},
   "outputs": [
    {
     "data": {
      "text/html": [
       "<div>\n",
       "<style scoped>\n",
       "    .dataframe tbody tr th:only-of-type {\n",
       "        vertical-align: middle;\n",
       "    }\n",
       "\n",
       "    .dataframe tbody tr th {\n",
       "        vertical-align: top;\n",
       "    }\n",
       "\n",
       "    .dataframe thead th {\n",
       "        text-align: right;\n",
       "    }\n",
       "</style>\n",
       "<table border=\"1\" class=\"dataframe\">\n",
       "  <thead>\n",
       "    <tr style=\"text-align: right;\">\n",
       "      <th></th>\n",
       "      <th>age</th>\n",
       "      <th>sex</th>\n",
       "      <th>bmi</th>\n",
       "      <th>children</th>\n",
       "      <th>smoker</th>\n",
       "      <th>region</th>\n",
       "      <th>charges</th>\n",
       "    </tr>\n",
       "  </thead>\n",
       "  <tbody>\n",
       "    <tr>\n",
       "      <th>27</th>\n",
       "      <td>55</td>\n",
       "      <td>female</td>\n",
       "      <td>37.3635</td>\n",
       "      <td>2</td>\n",
       "      <td>no</td>\n",
       "      <td>northwest</td>\n",
       "      <td>12882.063862</td>\n",
       "    </tr>\n",
       "    <tr>\n",
       "      <th>38</th>\n",
       "      <td>35</td>\n",
       "      <td>male</td>\n",
       "      <td>41.8038</td>\n",
       "      <td>1</td>\n",
       "      <td>yes</td>\n",
       "      <td>northeast</td>\n",
       "      <td>41762.990115</td>\n",
       "    </tr>\n",
       "    <tr>\n",
       "      <th>441</th>\n",
       "      <td>33</td>\n",
       "      <td>female</td>\n",
       "      <td>38.1900</td>\n",
       "      <td>0</td>\n",
       "      <td>yes</td>\n",
       "      <td>southwest</td>\n",
       "      <td>38933.340600</td>\n",
       "    </tr>\n",
       "    <tr>\n",
       "      <th>1068</th>\n",
       "      <td>63</td>\n",
       "      <td>male</td>\n",
       "      <td>24.6924</td>\n",
       "      <td>1</td>\n",
       "      <td>no</td>\n",
       "      <td>northwest</td>\n",
       "      <td>15067.347120</td>\n",
       "    </tr>\n",
       "    <tr>\n",
       "      <th>1310</th>\n",
       "      <td>42</td>\n",
       "      <td>male</td>\n",
       "      <td>29.9991</td>\n",
       "      <td>1</td>\n",
       "      <td>no</td>\n",
       "      <td>northwest</td>\n",
       "      <td>7287.955343</td>\n",
       "    </tr>\n",
       "  </tbody>\n",
       "</table>\n",
       "</div>"
      ],
      "text/plain": [
       "      age     sex      bmi  children smoker     region       charges\n",
       "27     55  female  37.3635         2     no  northwest  12882.063862\n",
       "38     35    male  41.8038         1    yes  northeast  41762.990115\n",
       "441    33  female  38.1900         0    yes  southwest  38933.340600\n",
       "1068   63    male  24.6924         1     no  northwest  15067.347120\n",
       "1310   42    male  29.9991         1     no  northwest   7287.955343"
      ]
     },
     "execution_count": 90,
     "metadata": {},
     "output_type": "execute_result"
    }
   ],
   "source": [
    "dataframe = customize_dataset(dataframe_raw, your_name)\n",
    "dataframe.head()"
   ]
  },
  {
   "cell_type": "markdown",
   "metadata": {},
   "source": [
    "Let us answer some basic questions about the dataset. \n",
    "\n",
    "\n",
    "**Q: How many rows does the dataset have?**"
   ]
  },
  {
   "cell_type": "code",
   "execution_count": 91,
   "metadata": {},
   "outputs": [
    {
     "name": "stdout",
     "output_type": "stream",
     "text": [
      "1271\n"
     ]
    }
   ],
   "source": [
    "num_rows = len(dataframe)\n",
    "print(num_rows)"
   ]
  },
  {
   "cell_type": "markdown",
   "metadata": {},
   "source": [
    "**Q: How many columns doe the dataset have**"
   ]
  },
  {
   "cell_type": "code",
   "execution_count": 92,
   "metadata": {},
   "outputs": [
    {
     "name": "stdout",
     "output_type": "stream",
     "text": [
      "7\n"
     ]
    }
   ],
   "source": [
    "num_cols = len(dataframe.columns)\n",
    "print(num_cols)"
   ]
  },
  {
   "cell_type": "markdown",
   "metadata": {},
   "source": [
    "**Q: What are the column titles of the input variables?**"
   ]
  },
  {
   "cell_type": "code",
   "execution_count": 93,
   "metadata": {},
   "outputs": [],
   "source": [
    "input_cols = ['age','sex','bmi','children','smoker']"
   ]
  },
  {
   "cell_type": "markdown",
   "metadata": {},
   "source": [
    "**Q: Which of the input columns are non-numeric or categorial variables ?**\n",
    "\n",
    "Hint: `sex` is one of them. List the columns that are not numbers."
   ]
  },
  {
   "cell_type": "code",
   "execution_count": 94,
   "metadata": {},
   "outputs": [],
   "source": [
    "categorical_cols = ['sex','smoker']"
   ]
  },
  {
   "cell_type": "markdown",
   "metadata": {},
   "source": [
    "**Q: What are the column titles of output/target variable(s)?**"
   ]
  },
  {
   "cell_type": "code",
   "execution_count": 95,
   "metadata": {},
   "outputs": [],
   "source": [
    "output_cols = ['charges']"
   ]
  },
  {
   "cell_type": "markdown",
   "metadata": {},
   "source": [
    "**Q: (Optional) What is the minimum, maximum and average value of the `charges` column? Can you show the distribution of values in a graph?**\n",
    "Use this data visualization cheatsheet for referece: https://jovian.ml/aakashns/dataviz-cheatsheet"
   ]
  },
  {
   "cell_type": "code",
   "execution_count": 96,
   "metadata": {},
   "outputs": [
    {
     "data": {
      "text/plain": [
       "(1177.967595, 66958.9494105, 13926.807592908699)"
      ]
     },
     "execution_count": 96,
     "metadata": {},
     "output_type": "execute_result"
    }
   ],
   "source": [
    "min = dataframe['charges'].min()\n",
    "max = dataframe['charges'].max()\n",
    "avg = dataframe['charges'].mean()\n",
    "\n",
    "min, max, avg"
   ]
  },
  {
   "cell_type": "markdown",
   "metadata": {},
   "source": [
    "Remember to commit your notebook to Jovian after every step, so that you don't lose your work."
   ]
  },
  {
   "cell_type": "code",
   "execution_count": null,
   "metadata": {},
   "outputs": [],
   "source": [
    "jovian.commit(project=project_name, environment=None)"
   ]
  },
  {
   "cell_type": "markdown",
   "metadata": {},
   "source": [
    "## Step 2: Prepare the dataset for training\n",
    "\n",
    "We need to convert the data from the Pandas dataframe into a PyTorch tensors for training. To do this, the first step is to convert it numpy arrays. If you've filled out `input_cols`, `categorial_cols` and `output_cols` correctly, this following function will perform the conversion to numpy arrays."
   ]
  },
  {
   "cell_type": "code",
   "execution_count": 97,
   "metadata": {},
   "outputs": [],
   "source": [
    "def dataframe_to_arrays(dataframe):\n",
    "    # Make a copy of the original dataframe\n",
    "    dataframe1 = dataframe.copy(deep=True)\n",
    "    # Convert non-numeric categorical columns to numbers\n",
    "    for col in categorical_cols:\n",
    "        dataframe1[col] = dataframe1[col].astype('category').cat.codes\n",
    "    # Extract input & outupts as numpy arrays\n",
    "    inputs_array = dataframe1[input_cols].to_numpy()\n",
    "    targets_array = dataframe1[output_cols].to_numpy()\n",
    "    return inputs_array, targets_array"
   ]
  },
  {
   "cell_type": "markdown",
   "metadata": {},
   "source": [
    "Read through the [Pandas documentation](https://pandas.pydata.org/pandas-docs/stable/user_guide/categorical.html) to understand how we're converting categorical variables into numbers."
   ]
  },
  {
   "cell_type": "code",
   "execution_count": 98,
   "metadata": {},
   "outputs": [
    {
     "data": {
      "text/plain": [
       "(array([[55.    ,  0.    , 37.3635,  2.    ,  0.    ],\n",
       "        [35.    ,  1.    , 41.8038,  1.    ,  1.    ],\n",
       "        [33.    ,  0.    , 38.19  ,  0.    ,  1.    ],\n",
       "        ...,\n",
       "        [29.    ,  1.    , 42.5106,  2.    ,  0.    ],\n",
       "        [26.    ,  1.    , 27.018 ,  2.    ,  0.    ],\n",
       "        [18.    ,  0.    , 36.3888,  0.    ,  0.    ]]),\n",
       " array([[12882.0638625],\n",
       "        [41762.990115 ],\n",
       "        [38933.3406   ],\n",
       "        ...,\n",
       "        [ 4261.021905 ],\n",
       "        [ 3658.54755  ],\n",
       "        [ 2316.27984  ]]))"
      ]
     },
     "execution_count": 98,
     "metadata": {},
     "output_type": "execute_result"
    }
   ],
   "source": [
    "inputs_array, targets_array = dataframe_to_arrays(dataframe)\n",
    "inputs_array, targets_array"
   ]
  },
  {
   "cell_type": "markdown",
   "metadata": {},
   "source": [
    "**Q: Convert the numpy arrays `inputs_array` and `targets_array` into PyTorch tensors. Make sure that the data type is `torch.float32`.**"
   ]
  },
  {
   "cell_type": "code",
   "execution_count": 99,
   "metadata": {},
   "outputs": [],
   "source": [
    "inputs = torch.from_numpy(inputs_array)\n",
    "inputs = inputs.type(torch.float32)\n",
    "targets = torch.from_numpy(targets_array)\n",
    "targets = targets.type(torch.float32)"
   ]
  },
  {
   "cell_type": "code",
   "execution_count": 100,
   "metadata": {},
   "outputs": [
    {
     "data": {
      "text/plain": [
       "(torch.float32, torch.float32)"
      ]
     },
     "execution_count": 100,
     "metadata": {},
     "output_type": "execute_result"
    }
   ],
   "source": [
    "inputs.dtype, targets.dtype"
   ]
  },
  {
   "cell_type": "markdown",
   "metadata": {},
   "source": [
    "Next, we need to create PyTorch datasets & data loaders for training & validation. We'll start by creating a `TensorDataset`."
   ]
  },
  {
   "cell_type": "code",
   "execution_count": 101,
   "metadata": {},
   "outputs": [],
   "source": [
    "dataset = TensorDataset(inputs, targets)"
   ]
  },
  {
   "cell_type": "markdown",
   "metadata": {},
   "source": [
    "**Q: Pick a number between `0.1` and `0.2` to determine the fraction of data that will be used for creating the validation set. Then use `random_split` to create training & validation datasets. **"
   ]
  },
  {
   "cell_type": "code",
   "execution_count": 102,
   "metadata": {},
   "outputs": [],
   "source": [
    "val_percent = 0.17\n",
    "val_size = int(num_rows * val_percent)\n",
    "train_size = num_rows - val_size\n",
    "\n",
    "\n",
    "train_ds, val_ds = random_split(dataset, [train_size, val_size])"
   ]
  },
  {
   "cell_type": "code",
   "execution_count": 103,
   "metadata": {},
   "outputs": [
    {
     "data": {
      "text/plain": [
       "216"
      ]
     },
     "execution_count": 103,
     "metadata": {},
     "output_type": "execute_result"
    }
   ],
   "source": [
    "len(val_ds)"
   ]
  },
  {
   "cell_type": "markdown",
   "metadata": {},
   "source": [
    "Finally, we can create data loaders for training & validation.\n",
    "\n",
    "**Q: Pick a batch size for the data loader.**"
   ]
  },
  {
   "cell_type": "code",
   "execution_count": 104,
   "metadata": {},
   "outputs": [],
   "source": [
    "batch_size = 30"
   ]
  },
  {
   "cell_type": "code",
   "execution_count": 106,
   "metadata": {},
   "outputs": [],
   "source": [
    "train_loader = DataLoader(train_ds, batch_size, shuffle=True)\n",
    "val_loader = DataLoader(val_ds, batch_size)"
   ]
  },
  {
   "cell_type": "markdown",
   "metadata": {},
   "source": [
    "Let's look at a batch of data to verify everything is working fine so far."
   ]
  },
  {
   "cell_type": "code",
   "execution_count": 107,
   "metadata": {},
   "outputs": [
    {
     "name": "stdout",
     "output_type": "stream",
     "text": [
      "inputs: tensor([[25.0000,  1.0000, 51.9156,  2.0000,  1.0000],\n",
      "        [29.0000,  0.0000, 35.5224,  0.0000,  0.0000],\n",
      "        [47.0000,  0.0000, 26.9040,  1.0000,  0.0000],\n",
      "        [18.0000,  0.0000, 45.8964,  0.0000,  0.0000],\n",
      "        [58.0000,  0.0000, 37.5801,  0.0000,  0.0000],\n",
      "        [32.0000,  1.0000, 32.9232,  0.0000,  0.0000],\n",
      "        [39.0000,  1.0000, 48.6267,  0.0000,  0.0000],\n",
      "        [42.0000,  1.0000, 28.3404,  0.0000,  0.0000],\n",
      "        [25.0000,  1.0000, 29.3436,  0.0000,  0.0000],\n",
      "        [38.0000,  1.0000, 33.3564,  2.0000,  0.0000],\n",
      "        [54.0000,  1.0000, 28.6140,  3.0000,  1.0000],\n",
      "        [58.0000,  1.0000, 41.1312,  0.0000,  0.0000],\n",
      "        [37.0000,  1.0000, 33.9720,  0.0000,  0.0000],\n",
      "        [47.0000,  0.0000, 38.0133,  0.0000,  0.0000],\n",
      "        [60.0000,  0.0000, 40.0140,  0.0000,  0.0000],\n",
      "        [19.0000,  0.0000, 41.6955,  0.0000,  0.0000],\n",
      "        [31.0000,  1.0000, 23.2560,  0.0000,  0.0000],\n",
      "        [26.0000,  1.0000, 23.7120,  0.0000,  0.0000],\n",
      "        [63.0000,  1.0000, 32.2734,  0.0000,  0.0000],\n",
      "        [48.0000,  0.0000, 35.4882,  0.0000,  0.0000],\n",
      "        [44.0000,  0.0000, 23.0679,  1.0000,  1.0000],\n",
      "        [25.0000,  0.0000, 47.1105,  0.0000,  0.0000],\n",
      "        [20.0000,  0.0000, 30.5976,  1.0000,  1.0000],\n",
      "        [18.0000,  0.0000, 35.7390,  4.0000,  0.0000],\n",
      "        [28.0000,  0.0000, 32.9232,  1.0000,  0.0000],\n",
      "        [22.0000,  1.0000, 39.6720,  3.0000,  0.0000],\n",
      "        [42.0000,  1.0000, 40.8120,  2.0000,  0.0000],\n",
      "        [57.0000,  0.0000, 43.3200,  2.0000,  0.0000],\n",
      "        [45.0000,  0.0000, 34.7643,  1.0000,  1.0000],\n",
      "        [62.0000,  0.0000, 34.7643,  2.0000,  0.0000]])\n",
      "targets: tensor([[44217.8477],\n",
      "        [ 4140.7754],\n",
      "        [ 8966.6543],\n",
      "        [ 1716.3021],\n",
      "        [13052.5010],\n",
      "        [ 4060.1980],\n",
      "        [ 6045.2842],\n",
      "        [ 6265.2319],\n",
      "        [ 2244.5364],\n",
      "        [ 6780.7354],\n",
      "        [26651.4121],\n",
      "        [11931.4473],\n",
      "        [21441.6348],\n",
      "        [21922.7246],\n",
      "        [13276.8184],\n",
      "        [ 2243.7263],\n",
      "        [ 3423.2090],\n",
      "        [ 2417.4150],\n",
      "        [14458.6025],\n",
      "        [ 8694.6543],\n",
      "        [20574.5508],\n",
      "        [18772.8457],\n",
      "        [17939.5312],\n",
      "        [ 4789.2480],\n",
      "        [ 4554.6221],\n",
      "        [ 3615.2173],\n",
      "        [ 7518.0986],\n",
      "        [13278.5176],\n",
      "        [41711.7930],\n",
      "        [15770.7480]])\n"
     ]
    }
   ],
   "source": [
    "for xb, yb in train_loader:\n",
    "    print(\"inputs:\", xb)\n",
    "    print(\"targets:\", yb)\n",
    "    break"
   ]
  },
  {
   "cell_type": "markdown",
   "metadata": {},
   "source": [
    "Let's save our work by committing to Jovian."
   ]
  },
  {
   "cell_type": "code",
   "execution_count": null,
   "metadata": {},
   "outputs": [],
   "source": [
    "jovian.commit(project=project_name, environment=None)"
   ]
  },
  {
   "cell_type": "markdown",
   "metadata": {},
   "source": [
    "## Step 3: Create a Linear Regression Model\n",
    "\n",
    "Our model itself is a fairly straightforward linear regression (we'll build more complex models in the next assignment). \n"
   ]
  },
  {
   "cell_type": "code",
   "execution_count": 108,
   "metadata": {},
   "outputs": [],
   "source": [
    "input_size = len(input_cols)\n",
    "output_size = len(output_cols)"
   ]
  },
  {
   "cell_type": "code",
   "execution_count": 109,
   "metadata": {},
   "outputs": [
    {
     "data": {
      "text/plain": [
       "(5, 1)"
      ]
     },
     "execution_count": 109,
     "metadata": {},
     "output_type": "execute_result"
    }
   ],
   "source": [
    "input_size, output_size"
   ]
  },
  {
   "cell_type": "markdown",
   "metadata": {},
   "source": [
    "**Q: Complete the class definition below by filling out the constructor (`__init__`), `forward`, `training_step` and `validation_step` methods.**\n",
    "\n",
    "Hint: Think carefully about picking a good loss fuction (it's not cross entropy). Maybe try 2-3 of them and see which one works best. See https://pytorch.org/docs/stable/nn.functional.html#loss-functions"
   ]
  },
  {
   "cell_type": "code",
   "execution_count": 110,
   "metadata": {},
   "outputs": [],
   "source": [
    "class InsuranceModel(nn.Module):\n",
    "    def __init__(self):\n",
    "        super().__init__()\n",
    "        self.linear = nn.Linear(input_size, output_size)        # fill this (hint: use input_size & output_size defined above)\n",
    "        \n",
    "    def forward(self, xb):\n",
    "        xb = xb.reshape(-1, 5)\n",
    "        out =  self.linear(xb)        # fill this\n",
    "        return out\n",
    "    \n",
    "    def training_step(self, batch):\n",
    "        inputs, targets = batch \n",
    "        # Generate predictions\n",
    "        out = self(inputs)          \n",
    "        # Calcuate loss\n",
    "        loss = F.l1_loss(out, targets)                        # fill this\n",
    "        return loss\n",
    "    \n",
    "    def validation_step(self, batch):\n",
    "        inputs, targets = batch\n",
    "        # Generate predictions\n",
    "        out = self(inputs)\n",
    "        # Calculate loss\n",
    "        loss = F.l1_loss(out, targets)                          # fill this    \n",
    "        return {'val_loss': loss.detach()}\n",
    "        \n",
    "    def validation_epoch_end(self, outputs):\n",
    "        batch_losses = [x['val_loss'] for x in outputs]\n",
    "        epoch_loss = torch.stack(batch_losses).mean()   # Combine losses\n",
    "        return {'val_loss': epoch_loss.item()}\n",
    "    \n",
    "    def epoch_end(self, epoch, result, num_epochs):\n",
    "        # Print result every 20th epoch\n",
    "        if (epoch+1) % 20 == 0 or epoch == num_epochs-1:\n",
    "            print(\"Epoch [{}], val_loss: {:.4f}\".format(epoch+1, result['val_loss']))"
   ]
  },
  {
   "cell_type": "markdown",
   "metadata": {},
   "source": [
    "Let us create a model using the `InsuranceModel` class. You may need to come back later and re-run the next cell to reinitialize the model, in case the loss becomes `nan` or `infinity`."
   ]
  },
  {
   "cell_type": "code",
   "execution_count": 111,
   "metadata": {},
   "outputs": [],
   "source": [
    "model = InsuranceModel()"
   ]
  },
  {
   "cell_type": "markdown",
   "metadata": {},
   "source": [
    "Let's check out the weights and biases of the model using `model.parameters`."
   ]
  },
  {
   "cell_type": "code",
   "execution_count": 112,
   "metadata": {},
   "outputs": [
    {
     "data": {
      "text/plain": [
       "[Parameter containing:\n",
       " tensor([[-0.1297,  0.3630,  0.1029, -0.3296,  0.0602]], requires_grad=True),\n",
       " Parameter containing:\n",
       " tensor([0.0286], requires_grad=True)]"
      ]
     },
     "execution_count": 112,
     "metadata": {},
     "output_type": "execute_result"
    }
   ],
   "source": [
    "list(model.parameters())"
   ]
  },
  {
   "cell_type": "markdown",
   "metadata": {},
   "source": [
    "One final commit before we train the model."
   ]
  },
  {
   "cell_type": "code",
   "execution_count": null,
   "metadata": {},
   "outputs": [],
   "source": [
    "jovian.commit(project=project_name, environment=None)"
   ]
  },
  {
   "cell_type": "markdown",
   "metadata": {},
   "source": [
    "## Step 4: Train the model to fit the data\n",
    "\n",
    "To train our model, we'll use the same `fit` function explained in the lecture. That's the benefit of defining a generic training loop - you can use it for any problem."
   ]
  },
  {
   "cell_type": "code",
   "execution_count": 113,
   "metadata": {},
   "outputs": [],
   "source": [
    "def evaluate(model, val_loader):\n",
    "    outputs = [model.validation_step(batch) for batch in val_loader]\n",
    "    return model.validation_epoch_end(outputs)\n",
    "\n",
    "def fit(epochs, lr, model, train_loader, val_loader, opt_func=torch.optim.SGD):\n",
    "    history = []\n",
    "    optimizer = opt_func(model.parameters(), lr)\n",
    "    for epoch in range(epochs):\n",
    "        # Training Phase \n",
    "        for batch in train_loader:\n",
    "            loss = model.training_step(batch)\n",
    "            loss.backward()\n",
    "            optimizer.step()\n",
    "            optimizer.zero_grad()\n",
    "        # Validation phase\n",
    "        result = evaluate(model, val_loader)\n",
    "        model.epoch_end(epoch, result, epochs)\n",
    "        history.append(result)\n",
    "    return history"
   ]
  },
  {
   "cell_type": "markdown",
   "metadata": {},
   "source": [
    "**Q: Use the `evaluate` function to calculate the loss on the validation set before training.**"
   ]
  },
  {
   "cell_type": "code",
   "execution_count": 114,
   "metadata": {},
   "outputs": [
    {
     "name": "stdout",
     "output_type": "stream",
     "text": [
      "{'val_loss': 14016.18359375}\n"
     ]
    }
   ],
   "source": [
    "result = evaluate(model,val_loader)\n",
    "print(result)"
   ]
  },
  {
   "cell_type": "markdown",
   "metadata": {},
   "source": [
    "\n",
    "We are now ready to train the model. You may need to run the training loop many times, for different number of epochs and with different learning rates, to get a good result. Also, if your loss becomes too large (or `nan`), you may have to re-initialize the model by running the cell `model = InsuranceModel()`. Experiment with this for a while, and try to get to as low a loss as possible."
   ]
  },
  {
   "cell_type": "markdown",
   "metadata": {},
   "source": [
    "**Q: Train the model 4-5 times with different learning rates & for different number of epochs.**\n",
    "\n",
    "Hint: Vary learning rates by orders of 10 (e.g. `1e-2`, `1e-3`, `1e-4`, `1e-5`, `1e-6`) to figure out what works."
   ]
  },
  {
   "cell_type": "code",
   "execution_count": 115,
   "metadata": {},
   "outputs": [
    {
     "name": "stdout",
     "output_type": "stream",
     "text": [
      "Epoch [20], val_loss: 13813.5615\n",
      "Epoch [40], val_loss: 13611.0615\n",
      "Epoch [60], val_loss: 13408.4297\n",
      "Epoch [80], val_loss: 13205.8047\n",
      "Epoch [100], val_loss: 13003.2451\n",
      "Epoch [120], val_loss: 12800.5391\n",
      "Epoch [140], val_loss: 12597.8008\n",
      "Epoch [160], val_loss: 12395.9805\n",
      "Epoch [180], val_loss: 12195.9609\n",
      "Epoch [200], val_loss: 11997.7764\n",
      "Epoch [220], val_loss: 11806.0791\n",
      "Epoch [240], val_loss: 11619.6006\n",
      "Epoch [260], val_loss: 11437.4756\n",
      "Epoch [280], val_loss: 11260.7822\n",
      "Epoch [300], val_loss: 11092.2148\n",
      "Epoch [320], val_loss: 10929.9141\n",
      "Epoch [340], val_loss: 10775.0605\n",
      "Epoch [360], val_loss: 10624.6699\n",
      "Epoch [380], val_loss: 10479.0674\n",
      "Epoch [400], val_loss: 10339.4766\n",
      "Epoch [420], val_loss: 10209.9990\n",
      "Epoch [440], val_loss: 10082.9307\n",
      "Epoch [460], val_loss: 9957.4883\n",
      "Epoch [480], val_loss: 9834.0723\n",
      "Epoch [500], val_loss: 9714.0195\n",
      "Epoch [520], val_loss: 9599.2383\n",
      "Epoch [540], val_loss: 9487.1230\n",
      "Epoch [560], val_loss: 9382.6455\n",
      "Epoch [580], val_loss: 9283.9492\n",
      "Epoch [600], val_loss: 9188.2773\n",
      "Epoch [620], val_loss: 9095.4189\n",
      "Epoch [640], val_loss: 9006.6152\n",
      "Epoch [660], val_loss: 8921.7354\n",
      "Epoch [680], val_loss: 8840.6504\n",
      "Epoch [700], val_loss: 8762.1338\n",
      "Epoch [720], val_loss: 8690.2031\n",
      "Epoch [740], val_loss: 8622.8311\n",
      "Epoch [760], val_loss: 8559.5215\n",
      "Epoch [780], val_loss: 8500.0459\n",
      "Epoch [800], val_loss: 8443.1729\n",
      "Epoch [820], val_loss: 8389.0830\n",
      "Epoch [840], val_loss: 8338.4170\n",
      "Epoch [860], val_loss: 8289.1777\n",
      "Epoch [880], val_loss: 8241.8740\n",
      "Epoch [900], val_loss: 8198.0830\n",
      "Epoch [920], val_loss: 8156.9658\n",
      "Epoch [940], val_loss: 8118.1245\n",
      "Epoch [960], val_loss: 8085.1787\n",
      "Epoch [980], val_loss: 8055.4351\n",
      "Epoch [1000], val_loss: 8027.4292\n"
     ]
    }
   ],
   "source": [
    "epochs = 1000\n",
    "lr = 1e-4\n",
    "history1 = fit(epochs, lr, model, train_loader, val_loader)"
   ]
  },
  {
   "cell_type": "code",
   "execution_count": 116,
   "metadata": {},
   "outputs": [
    {
     "name": "stdout",
     "output_type": "stream",
     "text": [
      "Epoch [20], val_loss: 6907.1460\n",
      "Epoch [40], val_loss: 6866.0215\n",
      "Epoch [60], val_loss: 6855.4531\n",
      "Epoch [80], val_loss: 6856.9277\n",
      "Epoch [100], val_loss: 6849.7681\n",
      "Epoch [120], val_loss: 6835.0361\n",
      "Epoch [140], val_loss: 6828.9893\n",
      "Epoch [160], val_loss: 6824.6104\n",
      "Epoch [180], val_loss: 6818.6968\n",
      "Epoch [200], val_loss: 6808.1455\n",
      "Epoch [220], val_loss: 6819.8892\n",
      "Epoch [240], val_loss: 6799.4370\n",
      "Epoch [260], val_loss: 6798.9990\n",
      "Epoch [280], val_loss: 6796.8232\n",
      "Epoch [300], val_loss: 6785.2944\n",
      "Epoch [320], val_loss: 6780.7876\n",
      "Epoch [340], val_loss: 6774.0366\n",
      "Epoch [360], val_loss: 6769.6699\n",
      "Epoch [380], val_loss: 6766.9551\n",
      "Epoch [400], val_loss: 6767.5176\n",
      "Epoch [420], val_loss: 6758.9160\n",
      "Epoch [440], val_loss: 6760.4604\n",
      "Epoch [460], val_loss: 6753.7793\n",
      "Epoch [480], val_loss: 6742.5952\n",
      "Epoch [500], val_loss: 6740.6177\n"
     ]
    }
   ],
   "source": [
    "epochs = 500\n",
    "lr = 1e-1\n",
    "history2 = fit(epochs, lr, model, train_loader, val_loader)"
   ]
  },
  {
   "cell_type": "code",
   "execution_count": 117,
   "metadata": {},
   "outputs": [
    {
     "name": "stdout",
     "output_type": "stream",
     "text": [
      "Epoch [20], val_loss: 6736.6172\n",
      "Epoch [40], val_loss: 6770.6436\n",
      "Epoch [60], val_loss: 6731.9395\n",
      "Epoch [80], val_loss: 6723.5464\n",
      "Epoch [100], val_loss: 6724.3071\n",
      "Epoch [120], val_loss: 6718.9468\n",
      "Epoch [140], val_loss: 6719.2617\n",
      "Epoch [160], val_loss: 6718.4502\n",
      "Epoch [180], val_loss: 6709.0391\n",
      "Epoch [200], val_loss: 6708.7197\n",
      "Epoch [220], val_loss: 6721.1401\n",
      "Epoch [240], val_loss: 6704.4961\n",
      "Epoch [260], val_loss: 6710.4795\n",
      "Epoch [280], val_loss: 6691.1494\n",
      "Epoch [300], val_loss: 6686.8267\n",
      "Epoch [320], val_loss: 6679.8203\n",
      "Epoch [340], val_loss: 6678.3472\n",
      "Epoch [360], val_loss: 6676.9526\n",
      "Epoch [380], val_loss: 6671.2793\n",
      "Epoch [400], val_loss: 6665.4907\n",
      "Epoch [420], val_loss: 6667.4429\n",
      "Epoch [440], val_loss: 6663.0928\n",
      "Epoch [460], val_loss: 6667.9619\n",
      "Epoch [480], val_loss: 6653.8506\n",
      "Epoch [500], val_loss: 6656.4136\n",
      "Epoch [520], val_loss: 6644.5049\n",
      "Epoch [540], val_loss: 6646.1504\n",
      "Epoch [560], val_loss: 6641.0396\n",
      "Epoch [580], val_loss: 6634.9502\n",
      "Epoch [600], val_loss: 6632.9609\n",
      "Epoch [620], val_loss: 6636.0156\n",
      "Epoch [640], val_loss: 6629.2461\n",
      "Epoch [660], val_loss: 6621.9048\n",
      "Epoch [680], val_loss: 6620.8896\n",
      "Epoch [700], val_loss: 6614.5605\n",
      "Epoch [720], val_loss: 6629.1606\n",
      "Epoch [740], val_loss: 6609.2432\n",
      "Epoch [760], val_loss: 6603.9272\n",
      "Epoch [780], val_loss: 6602.2241\n",
      "Epoch [800], val_loss: 6603.1816\n",
      "Epoch [820], val_loss: 6604.9790\n",
      "Epoch [840], val_loss: 6595.6143\n",
      "Epoch [860], val_loss: 6594.2095\n",
      "Epoch [880], val_loss: 6589.6572\n",
      "Epoch [900], val_loss: 6584.4648\n",
      "Epoch [920], val_loss: 6582.9209\n",
      "Epoch [940], val_loss: 6592.4097\n",
      "Epoch [960], val_loss: 6593.9873\n",
      "Epoch [980], val_loss: 6587.8408\n",
      "Epoch [1000], val_loss: 6570.8223\n"
     ]
    }
   ],
   "source": [
    "epochs = 1000\n",
    "lr = 1e-1\n",
    "history3 = fit(epochs, lr, model, train_loader, val_loader)"
   ]
  },
  {
   "cell_type": "code",
   "execution_count": 118,
   "metadata": {},
   "outputs": [
    {
     "name": "stdout",
     "output_type": "stream",
     "text": [
      "Epoch [20], val_loss: 6836.4946\n",
      "Epoch [40], val_loss: 7264.4990\n",
      "Epoch [60], val_loss: 6577.8501\n",
      "Epoch [80], val_loss: 7064.8867\n",
      "Epoch [100], val_loss: 8148.1274\n",
      "Epoch [120], val_loss: 6896.7041\n",
      "Epoch [140], val_loss: 6375.9077\n",
      "Epoch [160], val_loss: 6453.9624\n",
      "Epoch [180], val_loss: 6529.4800\n",
      "Epoch [200], val_loss: 6389.9023\n",
      "Epoch [220], val_loss: 6238.0522\n",
      "Epoch [240], val_loss: 6522.8696\n",
      "Epoch [260], val_loss: 6642.6396\n",
      "Epoch [280], val_loss: 8100.3921\n",
      "Epoch [300], val_loss: 6605.1567\n",
      "Epoch [320], val_loss: 6257.8232\n",
      "Epoch [340], val_loss: 6265.6948\n",
      "Epoch [360], val_loss: 6273.8096\n",
      "Epoch [380], val_loss: 6537.9756\n",
      "Epoch [400], val_loss: 6001.3550\n",
      "Epoch [420], val_loss: 6260.5020\n",
      "Epoch [440], val_loss: 5938.3838\n",
      "Epoch [460], val_loss: 5966.3076\n",
      "Epoch [480], val_loss: 7615.2183\n",
      "Epoch [500], val_loss: 6818.4741\n",
      "Epoch [520], val_loss: 6451.1211\n",
      "Epoch [540], val_loss: 6337.3569\n",
      "Epoch [560], val_loss: 6496.4746\n",
      "Epoch [580], val_loss: 5840.9844\n",
      "Epoch [600], val_loss: 5783.3828\n",
      "Epoch [620], val_loss: 5803.8687\n",
      "Epoch [640], val_loss: 7011.0962\n",
      "Epoch [660], val_loss: 6619.3491\n",
      "Epoch [680], val_loss: 5944.0508\n",
      "Epoch [700], val_loss: 5712.4766\n",
      "Epoch [720], val_loss: 5515.4688\n",
      "Epoch [740], val_loss: 5515.4692\n",
      "Epoch [760], val_loss: 5805.2515\n",
      "Epoch [780], val_loss: 5484.2646\n",
      "Epoch [800], val_loss: 5376.3389\n",
      "Epoch [820], val_loss: 5498.9990\n",
      "Epoch [840], val_loss: 5311.4502\n",
      "Epoch [860], val_loss: 5629.0991\n",
      "Epoch [880], val_loss: 5420.3960\n",
      "Epoch [900], val_loss: 6396.9097\n",
      "Epoch [920], val_loss: 5319.7725\n",
      "Epoch [940], val_loss: 6568.5547\n",
      "Epoch [960], val_loss: 5448.3608\n",
      "Epoch [980], val_loss: 5694.1230\n",
      "Epoch [1000], val_loss: 5375.2529\n"
     ]
    }
   ],
   "source": [
    "epochs = 1000\n",
    "lr = 1\n",
    "history4 = fit(epochs, lr, model, train_loader, val_loader)"
   ]
  },
  {
   "cell_type": "code",
   "execution_count": 124,
   "metadata": {},
   "outputs": [
    {
     "name": "stdout",
     "output_type": "stream",
     "text": [
      "Epoch [20], val_loss: 4407.4819\n",
      "Epoch [40], val_loss: 4406.7544\n",
      "Epoch [60], val_loss: 4402.8213\n",
      "Epoch [80], val_loss: 4422.4761\n",
      "Epoch [100], val_loss: 4401.5239\n",
      "Epoch [120], val_loss: 4398.5435\n",
      "Epoch [140], val_loss: 4392.9556\n",
      "Epoch [160], val_loss: 4403.0933\n",
      "Epoch [180], val_loss: 4393.5024\n",
      "Epoch [200], val_loss: 4387.9316\n",
      "Epoch [220], val_loss: 4383.8633\n",
      "Epoch [240], val_loss: 4389.8477\n",
      "Epoch [260], val_loss: 4381.8608\n",
      "Epoch [280], val_loss: 4378.6221\n",
      "Epoch [300], val_loss: 4381.0439\n",
      "Epoch [320], val_loss: 4377.6250\n",
      "Epoch [340], val_loss: 4370.9795\n",
      "Epoch [360], val_loss: 4384.9019\n",
      "Epoch [380], val_loss: 4376.8867\n",
      "Epoch [400], val_loss: 4420.6226\n",
      "Epoch [420], val_loss: 4361.6812\n",
      "Epoch [440], val_loss: 4395.4102\n",
      "Epoch [460], val_loss: 4357.4966\n",
      "Epoch [480], val_loss: 4370.8301\n",
      "Epoch [500], val_loss: 4384.5840\n",
      "Epoch [520], val_loss: 4353.5381\n",
      "Epoch [540], val_loss: 4365.0806\n",
      "Epoch [560], val_loss: 4349.8320\n",
      "Epoch [580], val_loss: 4347.2285\n",
      "Epoch [600], val_loss: 4346.5781\n",
      "Epoch [620], val_loss: 4344.6890\n",
      "Epoch [640], val_loss: 4395.4111\n",
      "Epoch [660], val_loss: 4338.0923\n",
      "Epoch [680], val_loss: 4336.1641\n",
      "Epoch [700], val_loss: 4336.5845\n",
      "Epoch [720], val_loss: 4340.2354\n",
      "Epoch [740], val_loss: 4328.4702\n",
      "Epoch [760], val_loss: 4331.9375\n",
      "Epoch [780], val_loss: 4324.3940\n",
      "Epoch [800], val_loss: 4326.7739\n",
      "Epoch [820], val_loss: 4336.3228\n",
      "Epoch [840], val_loss: 4322.2920\n",
      "Epoch [860], val_loss: 4320.6152\n",
      "Epoch [880], val_loss: 4346.0776\n",
      "Epoch [900], val_loss: 4316.6489\n",
      "Epoch [920], val_loss: 4314.5225\n",
      "Epoch [940], val_loss: 4310.1821\n",
      "Epoch [960], val_loss: 4307.1450\n",
      "Epoch [980], val_loss: 4311.4907\n",
      "Epoch [1000], val_loss: 4309.0977\n"
     ]
    }
   ],
   "source": [
    "epochs = 1000\n",
    "lr = 1e-1\n",
    "history5 = fit(epochs, lr, model, train_loader, val_loader)"
   ]
  },
  {
   "cell_type": "markdown",
   "metadata": {},
   "source": [
    "**Q: What is the final validation loss of your model?**"
   ]
  },
  {
   "cell_type": "code",
   "execution_count": 125,
   "metadata": {},
   "outputs": [],
   "source": [
    "val_loss = 4309.0977"
   ]
  },
  {
   "cell_type": "markdown",
   "metadata": {},
   "source": [
    "Let's log the final validation loss to Jovian and commit the notebook"
   ]
  },
  {
   "cell_type": "code",
   "execution_count": 126,
   "metadata": {},
   "outputs": [
    {
     "name": "stdout",
     "output_type": "stream",
     "text": [
      "[jovian] Metrics logged.\u001b[0m\n"
     ]
    }
   ],
   "source": [
    "jovian.log_metrics(val_loss=val_loss)"
   ]
  },
  {
   "cell_type": "code",
   "execution_count": 127,
   "metadata": {},
   "outputs": [
    {
     "data": {
      "application/javascript": [
       "window.require && require([\"base/js/namespace\"],function(Jupyter){Jupyter.notebook.save_checkpoint()})"
      ],
      "text/plain": [
       "<IPython.core.display.Javascript object>"
      ]
     },
     "metadata": {},
     "output_type": "display_data"
    },
    {
     "name": "stdout",
     "output_type": "stream",
     "text": [
      "[jovian] Attempting to save notebook..\u001b[0m\n",
      "[jovian] Updating notebook \"mridul-chavan/02-insurance-linear-regression\" on https://jovian.ml/\u001b[0m\n",
      "[jovian] Uploading notebook..\u001b[0m\n",
      "[jovian] Attaching records (metrics, hyperparameters, dataset etc.)\u001b[0m\n",
      "[jovian] Committed successfully! https://jovian.ml/mridul-chavan/02-insurance-linear-regression\u001b[0m\n"
     ]
    },
    {
     "data": {
      "text/plain": [
       "'https://jovian.ml/mridul-chavan/02-insurance-linear-regression'"
      ]
     },
     "execution_count": 127,
     "metadata": {},
     "output_type": "execute_result"
    }
   ],
   "source": [
    "jovian.commit(project=project_name, environment=None)"
   ]
  },
  {
   "cell_type": "markdown",
   "metadata": {},
   "source": [
    "Now scroll back up, re-initialize the model, and try different set of values for batch size, number of epochs, learning rate etc. Commit each experiment and use the \"Compare\" and \"View Diff\" options on Jovian to compare the different results."
   ]
  },
  {
   "cell_type": "markdown",
   "metadata": {},
   "source": [
    "## Step 5: Make predictions using the trained model\n",
    "\n",
    "**Q: Complete the following function definition to make predictions on a single input**"
   ]
  },
  {
   "cell_type": "code",
   "execution_count": 128,
   "metadata": {},
   "outputs": [],
   "source": [
    "def predict_single(input, target, model):\n",
    "    inputs = input.unsqueeze(0)\n",
    "    predictions = model(inputs)              # fill this\n",
    "    prediction = predictions[0].detach()\n",
    "    print(\"Input:\", input)\n",
    "    print(\"Target:\", target)\n",
    "    print(\"Prediction:\", prediction)"
   ]
  },
  {
   "cell_type": "code",
   "execution_count": 129,
   "metadata": {},
   "outputs": [
    {
     "name": "stdout",
     "output_type": "stream",
     "text": [
      "Input: tensor([48.0000,  0.0000, 31.0821,  1.0000,  0.0000])\n",
      "Target: tensor([9919.6133])\n",
      "Prediction: tensor([10083.9980])\n"
     ]
    }
   ],
   "source": [
    "input, target = val_ds[0]\n",
    "predict_single(input, target, model)"
   ]
  },
  {
   "cell_type": "code",
   "execution_count": 130,
   "metadata": {},
   "outputs": [
    {
     "name": "stdout",
     "output_type": "stream",
     "text": [
      "Input: tensor([52.0000,  0.0000, 20.9019,  0.0000,  0.0000])\n",
      "Target: tensor([10490.5898])\n",
      "Prediction: tensor([10957.0645])\n"
     ]
    }
   ],
   "source": [
    "input, target = val_ds[10]\n",
    "predict_single(input, target, model)"
   ]
  },
  {
   "cell_type": "code",
   "execution_count": 131,
   "metadata": {},
   "outputs": [
    {
     "name": "stdout",
     "output_type": "stream",
     "text": [
      "Input: tensor([52.0000,  1.0000, 54.4236,  1.0000,  0.0000])\n",
      "Target: tensor([10236.3564])\n",
      "Prediction: tensor([10271.7324])\n"
     ]
    }
   ],
   "source": [
    "input, target = val_ds[23]\n",
    "predict_single(input, target, model)"
   ]
  },
  {
   "cell_type": "markdown",
   "metadata": {},
   "source": [
    "Are you happy with your model's predictions? Try to improve them further."
   ]
  },
  {
   "cell_type": "markdown",
   "metadata": {},
   "source": [
    "## (Optional) Step 6: Try another dataset & blog about it\n",
    "\n",
    "While this last step is optional for the submission of your assignment, we highly recommend that you do it. Try to clean up & replicate this notebook (or [this one](https://jovian.ml/aakashns/housing-linear-minimal), or [this one](https://jovian.ml/aakashns/mnist-logistic-minimal) ) for a different linear regression or logistic regression problem. This will help solidify your understanding, and give you a chance to differentiate the generic patters in machine learning from problem-specific details.\n",
    "\n",
    "Here are some sources to find good datasets:\n",
    "\n",
    "- https://lionbridge.ai/datasets/10-open-datasets-for-linear-regression/\n",
    "- https://www.kaggle.com/rtatman/datasets-for-regression-analysis\n",
    "- https://archive.ics.uci.edu/ml/datasets.php?format=&task=reg&att=&area=&numAtt=&numIns=&type=&sort=nameUp&view=table\n",
    "- https://people.sc.fsu.edu/~jburkardt/datasets/regression/regression.html\n",
    "- https://archive.ics.uci.edu/ml/datasets/wine+quality\n",
    "- https://pytorch.org/docs/stable/torchvision/datasets.html\n",
    "\n",
    "We also recommend that you write a blog about your approach to the problem. Here is a suggested structure for your post (feel free to experiment with it):\n",
    "\n",
    "- Interesting title & subtitle\n",
    "- Overview of what the blog covers (which dataset, linear regression or logistic regression, intro to PyTorch)\n",
    "- Downloading & exploring the data\n",
    "- Preparing the data for training\n",
    "- Creating a model using PyTorch\n",
    "- Training the model to fit the data\n",
    "- Your thoughts on how to experiment with different hyperparmeters to reduce loss\n",
    "- Making predictions using the model\n",
    "\n",
    "As with the previous assignment, you can [embed Juptyer notebook cells & outputs from Jovian](https://medium.com/jovianml/share-and-embed-jupyter-notebooks-online-with-jovian-ml-df709a03064e) into your blog. \n",
    "\n",
    "Don't forget to share your work on the forum: https://jovian.ml/forum/t/share-your-work-here-assignment-2/4931"
   ]
  },
  {
   "cell_type": "code",
   "execution_count": null,
   "metadata": {},
   "outputs": [
    {
     "data": {
      "application/javascript": [
       "window.require && require([\"base/js/namespace\"],function(Jupyter){Jupyter.notebook.save_checkpoint()})"
      ],
      "text/plain": [
       "<IPython.core.display.Javascript object>"
      ]
     },
     "metadata": {},
     "output_type": "display_data"
    },
    {
     "name": "stdout",
     "output_type": "stream",
     "text": [
      "[jovian] Attempting to save notebook..\u001b[0m\n",
      "[jovian] Updating notebook \"mridul-chavan/02-insurance-linear-regression\" on https://jovian.ml/\u001b[0m\n",
      "[jovian] Uploading notebook..\u001b[0m\n",
      "[jovian] Attaching records (metrics, hyperparameters, dataset etc.)\u001b[0m\n",
      "[jovian] Committed successfully! https://jovian.ml/mridul-chavan/02-insurance-linear-regression\u001b[0m\n"
     ]
    },
    {
     "data": {
      "application/javascript": [
       "window.require && require([\"base/js/namespace\"],function(Jupyter){Jupyter.notebook.save_checkpoint()})"
      ],
      "text/plain": [
       "<IPython.core.display.Javascript object>"
      ]
     },
     "metadata": {},
     "output_type": "display_data"
    }
   ],
   "source": [
    "jovian.commit(project=project_name, environment=None)\n",
    "jovian.commit(project=project_name, environment=None) # try again, kaggle fails sometimes"
   ]
  },
  {
   "cell_type": "code",
   "execution_count": null,
   "metadata": {},
   "outputs": [],
   "source": []
  }
 ],
 "metadata": {
  "kernelspec": {
   "display_name": "Python 3",
   "language": "python",
   "name": "python3"
  },
  "language_info": {
   "codemirror_mode": {
    "name": "ipython",
    "version": 3
   },
   "file_extension": ".py",
   "mimetype": "text/x-python",
   "name": "python",
   "nbconvert_exporter": "python",
   "pygments_lexer": "ipython3",
   "version": "3.6.4"
  }
 },
 "nbformat": 4,
 "nbformat_minor": 4
}
